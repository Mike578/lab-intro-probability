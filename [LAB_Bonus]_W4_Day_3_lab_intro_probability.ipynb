{
  "cells": [
    {
      "cell_type": "markdown",
      "metadata": {
        "id": "j5S0WjayD-QR"
      },
      "source": [
        "# Lab | Intro to Probability"
      ]
    },
    {
      "cell_type": "markdown",
      "metadata": {
        "id": "EwGZGZpTD-QT"
      },
      "source": [
        "**Objective**\n",
        "\n",
        "Welcome to this Intro to Probability lab, where we explore decision-making scenarios through the lens of probability and strategic analysis. In the business world, making informed decisions is crucial, especially when faced with uncertainties. This lab focuses on scenarios where probabilistic outcomes play a significant role in shaping strategies and outcomes. Students will engage in exercises that require assessing and choosing optimal paths based on data-driven insights. The goal is to enhance your skills by applying probability concepts to solve real-world problems."
      ]
    },
    {
      "cell_type": "markdown",
      "metadata": {
        "id": "j6a5A5cLD-QU"
      },
      "source": [
        "**Challenge 1**"
      ]
    },
    {
      "cell_type": "markdown",
      "metadata": {
        "id": "aCMaCv8DD-QU"
      },
      "source": [
        "#### Ironhack Airlines\n",
        "\n",
        "Often Airlines sell more tickets than they have seats available, this is called overbooking. Consider the following:\n",
        "- A plane has 450 seats.\n",
        "- Based on historical data we conclude that each individual passenger has a 3% chance of missing it's flight.\n",
        "\n",
        "If the Ironhack Airlines routinely sells 460 tickets, what is the chance that they have a seats for all passenger?"
      ]
    },
    {
      "cell_type": "code",
      "execution_count": null,
      "metadata": {
        "id": "kFtU8AqzD-QV"
      },
      "outputs": [],
      "source": [
        "#code here"
      ]
    },
    {
      "cell_type": "markdown",
      "metadata": {
        "id": "AtDonA59D-QW"
      },
      "source": [
        "**Challenge 2**"
      ]
    },
    {
      "cell_type": "markdown",
      "metadata": {
        "id": "dOazYbilD-QX"
      },
      "source": [
        "#### Ironhack Call Center"
      ]
    },
    {
      "cell_type": "markdown",
      "metadata": {
        "id": "Qhe_k_C4D-QX"
      },
      "source": [
        "Suppose a customer service representative at a call center is handling customer complaints. Consider the following:\n",
        "- The probability of successfully resolving a customer complaint on the first attempt is 0.3.\n",
        "\n",
        "\n",
        "What is the probability that the representative needs to make at least three attempts before successfully resolving a customer complaint?"
      ]
    },
    {
      "cell_type": "code",
      "execution_count": null,
      "metadata": {
        "id": "phZ6Vox8D-QX"
      },
      "outputs": [],
      "source": [
        "#code here"
      ]
    },
    {
      "cell_type": "markdown",
      "metadata": {
        "id": "zg8_xnYaD-QY"
      },
      "source": [
        "**Challenge 3**"
      ]
    },
    {
      "cell_type": "markdown",
      "metadata": {
        "id": "YSEC3LHqD-QY"
      },
      "source": [
        "#### Ironhack Website"
      ]
    },
    {
      "cell_type": "markdown",
      "metadata": {
        "id": "TmSfl4CFD-QY"
      },
      "source": [
        "Consider a scenario related to Ironhack website traffic. Where:\n",
        "- our website takes on average 500 visits per hour.\n",
        "- the website's server is designed to handle up to 550 vists per hour.\n",
        "\n",
        "\n",
        "What is the probability of the website server being overwhelmed?"
      ]
    },
    {
      "cell_type": "code",
      "execution_count": null,
      "metadata": {
        "id": "pcVCRbkWD-QY"
      },
      "outputs": [],
      "source": [
        "#code here"
      ]
    },
    {
      "cell_type": "markdown",
      "metadata": {
        "id": "NBcMsE3rD-QZ"
      },
      "source": [
        "What is the probability of being overwhelmed at some point during a day? (consider 24hours)"
      ]
    },
    {
      "cell_type": "code",
      "execution_count": null,
      "metadata": {
        "id": "XZIfkBWoD-QZ"
      },
      "outputs": [],
      "source": [
        "#code here"
      ]
    },
    {
      "cell_type": "markdown",
      "metadata": {
        "id": "7qTQKIt7D-QZ"
      },
      "source": [
        "**Challenge 4**"
      ]
    },
    {
      "cell_type": "markdown",
      "metadata": {
        "id": "MbHIKZ0QD-Qa"
      },
      "source": [
        "#### Ironhack Helpdesk"
      ]
    },
    {
      "cell_type": "markdown",
      "metadata": {
        "id": "XXs5MEixD-Qa"
      },
      "source": [
        "Consider a scenario related to the time between arrivals of customers at a service desk.\n",
        "\n",
        "On average, a customers arrives every 10minutes.\n",
        "\n",
        "What is the probability that the next customer will arrive within the next 5 minutes?"
      ]
    },
    {
      "cell_type": "code",
      "execution_count": null,
      "metadata": {
        "id": "81fFuLm3D-Qa"
      },
      "outputs": [],
      "source": []
    },
    {
      "cell_type": "markdown",
      "metadata": {
        "id": "IndvO06xD-Qa"
      },
      "source": [
        "If there is no customer for 15minutes, employees can that a 5minutes break.\n",
        "\n",
        "What is the probability an employee taking a break?"
      ]
    },
    {
      "cell_type": "code",
      "execution_count": null,
      "metadata": {
        "id": "B0B-pooSD-Qa"
      },
      "outputs": [],
      "source": []
    },
    {
      "cell_type": "markdown",
      "metadata": {
        "id": "6lOpmVOdD-Qa"
      },
      "source": [
        "**Challenge 5**"
      ]
    },
    {
      "cell_type": "markdown",
      "metadata": {
        "id": "UZCvH2aqD-Qb"
      },
      "source": [
        "The weights of a certain species of birds follow a normal distribution with a mean weight of 150 grams and a standard deviation of 10 grams.\n",
        "\n",
        "- If we randomly select a bird, what is the probability that its weight is between 140 and 160 grams?"
      ]
    },
    {
      "cell_type": "code",
      "execution_count": null,
      "metadata": {
        "id": "uft7VB_RD-Qb"
      },
      "outputs": [],
      "source": [
        "#code here"
      ]
    },
    {
      "cell_type": "markdown",
      "metadata": {
        "id": "itdxQh7pD-Qb"
      },
      "source": [
        "**Challenge 6**"
      ]
    },
    {
      "cell_type": "markdown",
      "metadata": {
        "id": "sroLUqn4D-Qb"
      },
      "source": [
        "If the lifetime (in hours) of a certain electronic component follows an exponential distribution with a mean lifetime of 50 hours, what is the probability that the component fails within the first 30 hours?"
      ]
    },
    {
      "cell_type": "code",
      "execution_count": null,
      "metadata": {
        "id": "bhzMxZjFD-Qb"
      },
      "outputs": [],
      "source": [
        "#code here"
      ]
    }
  ],
  "metadata": {
    "kernelspec": {
      "display_name": "Python 3",
      "language": "python",
      "name": "python3"
    },
    "language_info": {
      "codemirror_mode": {
        "name": "ipython",
        "version": 3
      },
      "file_extension": ".py",
      "mimetype": "text/x-python",
      "name": "python",
      "nbconvert_exporter": "python",
      "pygments_lexer": "ipython3",
      "version": "3.10.9"
    },
    "colab": {
      "provenance": []
    }
  },
  "nbformat": 4,
  "nbformat_minor": 0
}